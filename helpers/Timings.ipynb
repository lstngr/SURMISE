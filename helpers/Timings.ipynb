{
 "cells": [
  {
   "cell_type": "code",
   "execution_count": null,
   "metadata": {},
   "outputs": [],
   "source": [
    "import glob\n",
    "import re\n",
    "import numpy as np\n",
    "from numpy import genfromtxt\n",
    "%matplotlib inline\n",
    "import matplotlib.pyplot as plt\n",
    "plt.rcParams['figure.figsize'] = [15, 5]\n",
    "\n",
    "def natural_sort(l): \n",
    "    convert = lambda text: int(text) if text.isdigit() else text.lower() \n",
    "    alphanum_key = lambda key: [ convert(c) for c in re.split('([0-9]+)', key) ] \n",
    "    return sorted(l, key = alphanum_key)"
   ]
  },
  {
   "cell_type": "code",
   "execution_count": null,
   "metadata": {},
   "outputs": [],
   "source": [
    "outfiles = glob.glob('../out/*.timers.*')\n",
    "outfiles = natural_sort(outfiles)\n",
    "numout = len(outfiles)"
   ]
  },
  {
   "cell_type": "code",
   "execution_count": null,
   "metadata": {},
   "outputs": [],
   "source": [
    "# Read timer structures\n",
    "my_data = genfromtxt(outfiles[0], delimiter=\",\")\n",
    "timer_shape = np.shape(my_data)\n",
    "num_proc = timer_shape[0]\n",
    "num_timers = timer_shape[1]-1\n",
    "print(\"Found \"+str(num_proc)+\" processors sharing \"+str(num_timers)+\" timers from \"+str(numout)+\" files.\")"
   ]
  },
  {
   "cell_type": "code",
   "execution_count": null,
   "metadata": {},
   "outputs": [],
   "source": [
    "# Load timers in a Numpy array (t_iter, timer_entry, cpu)\n",
    "timer_data = np.zeros((numout,num_timers,num_proc))\n",
    "for i,file in enumerate(outfiles):\n",
    "    my_data = genfromtxt(file, delimiter=\",\")\n",
    "    timer_data[i] = np.transpose(my_data[:,1:])\n",
    "\n",
    "timer_names = ['T_ITER','T_DISTR','T_FORCES','T_EVOL',\n",
    "               'T_LEAFSYNC','T_TREEUPDATE','T_OUTPUT']"
   ]
  },
  {
   "cell_type": "code",
   "execution_count": null,
   "metadata": {},
   "outputs": [],
   "source": [
    "# Total times. Sum timers per iteration and cpu\n",
    "total_per_task = np.sum(timer_data,axis=(0,2))\n",
    "total_cumul = np.sum(total_per_task[0])\n",
    "total_cumul_diagnostic = np.sum( total_per_task[1:] )\n",
    "total_per_cpu = np.sum(timer_data,axis=(0,1))\n",
    "total_per_iter = np.sum(timer_data,axis=(1,2))\n",
    "\n",
    "print(\"\"\"Total time (CPU time, T_ITER): \"\"\"+str(total_cumul)+\"\"\"s (all processes measure sync barrier at output)\n",
    "Total time (CPU time, sum per task): \"\"\"+str(total_cumul_diagnostic)+\"\"\"s (master measures sync barrier at output)\n",
    "Guessed output time (with two lines above):\"\"\"+str(total_cumul_diagnostic-total_cumul)+\"\"\"s\n",
    "Measured output time (T_OUPUT): \"\"\"+str(total_per_task[-1])+\"\"\"s\"\"\")"
   ]
  },
  {
   "cell_type": "code",
   "execution_count": null,
   "metadata": {},
   "outputs": [],
   "source": [
    "fig_per_cpu = plt.figure();\n",
    "plt.bar(range(0,4), total_per_cpu)\n",
    "plt.title(\"Time per CPU\")\n",
    "plt.show()\n",
    "\n",
    "fig_per_task = plt.figure();\n",
    "plt.bar(range(1,num_timers), total_per_task[1:])\n",
    "plt.xticks(range(1,num_timers), timer_names[1:], rotation=90)\n",
    "plt.title(\"Time per task\")\n",
    "plt.show()\n",
    "\n",
    "fig_per_iter = plt.figure();\n",
    "ax = plt.subplot(111)\n",
    "ax.semilogy( range(2,numout+1), np.sum(timer_data[1:,1:],axis=2) )\n",
    "plt.xlabel(\"Iteration\")\n",
    "plt.ylabel(\"Time [s]\")\n",
    "box = ax.get_position()\n",
    "ax.set_position([box.x0, box.y0, box.width * 0.8, box.height])\n",
    "ax.legend(timer_names[1:], loc=\"center left\",bbox_to_anchor=(1, 0.5))\n",
    "plt.show()"
   ]
  }
 ],
 "metadata": {
  "kernelspec": {
   "display_name": "Python 3",
   "language": "python",
   "name": "python3"
  },
  "language_info": {
   "codemirror_mode": {
    "name": "ipython",
    "version": 3
   },
   "file_extension": ".py",
   "mimetype": "text/x-python",
   "name": "python",
   "nbconvert_exporter": "python",
   "pygments_lexer": "ipython3",
   "version": "3.6.8"
  }
 },
 "nbformat": 4,
 "nbformat_minor": 2
}
