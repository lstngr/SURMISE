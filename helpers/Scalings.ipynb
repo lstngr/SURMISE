{
 "cells": [
  {
   "cell_type": "code",
   "execution_count": null,
   "metadata": {},
   "outputs": [],
   "source": [
    "import numpy as np\n",
    "%matplotlib inline\n",
    "import matplotlib.pyplot as plt\n",
    "\n",
    "plt.rcParams.update({'font.size': 22})"
   ]
  },
  {
   "cell_type": "markdown",
   "metadata": {},
   "source": [
    "Scaling data measured with UNIX's `time`"
   ]
  },
  {
   "cell_type": "code",
   "execution_count": null,
   "metadata": {},
   "outputs": [],
   "source": [
    "# Number of cpus\n",
    "cpus = 2**np.linspace(0,6,7);\n",
    "# Clustered set of 1e6 particles (theta=0.7)\n",
    "css = np.array([83.74,63.63,56.56,52.52,49.51,50.82,57.39])\n",
    "# Uniformly distributed set of 1e6 particles (theta=0.4)\n",
    "uss = np.array([197.2,115.6,72.73,58.50,48.09,49.77])"
   ]
  },
  {
   "cell_type": "code",
   "execution_count": null,
   "metadata": {},
   "outputs": [],
   "source": [
    "# Speedups\n",
    "u_spdp = uss[0]/uss\n",
    "c_spdp = css[0]/css"
   ]
  },
  {
   "cell_type": "code",
   "execution_count": null,
   "metadata": {},
   "outputs": [],
   "source": [
    "# Problem size for weak scaling\n",
    "nparts = np.array([10,30,100,300,1000,3000,10000, 30000, 100000, 300000,  1000000])\n",
    "# Total time for weak scaling (4CPUS)\n",
    "uws4=np.array([1.919,1.778,1.779,1.806,1.757,1.887,2.234,3.019,7.426,20.008,67.454])\n",
    "# Total time for weak scaling (8CPUS)\n",
    "uws8=np.array([2.366,2.082,2.149,2.295,3.175,2.542,2.528,3.357,6.703,17.382,58.501])\n",
    "# Total time for weak scaling (16CPUS)\n",
    "uws16=np.array([2.163,2.186,2.160,2.158,2.126,2.378,2.517,3.491,6.106,14.622,48.651])\n",
    "# Time per CPU for weak scaling\n",
    "pt_uws4 = uws4/4\n",
    "pt_uws8 = uws8/8\n",
    "pt_uws16 = uws16/16"
   ]
  },
  {
   "cell_type": "code",
   "execution_count": null,
   "metadata": {},
   "outputs": [],
   "source": [
    "plt.rcParams['figure.figsize'] = 2*np.array([4, 3])\n",
    "strong = plt.figure()\n",
    "plt.semilogx(cpus[:-1],css[:-1],label='Clustered')\n",
    "plt.semilogx(cpus[:-1],uss,label='Uniform')\n",
    "plt.xticks(cpus,labels=cpus.astype(str))\n",
    "plt.xlabel('CPUs')\n",
    "plt.ylabel('Time (s)')\n",
    "plt.xlim((cpus[0],cpus[-2]))\n",
    "plt.grid(True,which='both',axis='both')\n",
    "plt.title('1e6 particles, 10 iterations')\n",
    "plt.legend()\n",
    "plt.tight_layout()\n",
    "plt.savefig('strong_time.png',dpi=600, transparent=True)\n",
    "plt.show()"
   ]
  },
  {
   "cell_type": "code",
   "execution_count": null,
   "metadata": {},
   "outputs": [],
   "source": [
    "plt.rcParams['figure.figsize'] = 2*np.array([4, 3])\n",
    "strong = plt.figure()\n",
    "plt.loglog(nparts,pt_uws4,label='Uniform/4CPUs')\n",
    "plt.loglog(nparts,pt_uws8,label='Uniform/8CPUs')\n",
    "plt.loglog(nparts,pt_uws16,label='Uniform/16CPUs')\n",
    "plt.xlim((1e1,1e6))\n",
    "plt.grid(True,axis='both',which='both')\n",
    "plt.xlabel('Particles')\n",
    "plt.ylabel('Time (per CPU)')\n",
    "plt.title('10 iterations')\n",
    "plt.legend()\n",
    "plt.tight_layout()\n",
    "plt.savefig('weak_time.png',dpi=600, transparent=True)\n",
    "plt.show()"
   ]
  },
  {
   "cell_type": "code",
   "execution_count": null,
   "metadata": {},
   "outputs": [],
   "source": [
    "def amdahl(n,p):\n",
    "    return 1/(1-p+p/n)\n",
    "\n",
    "plt.rcParams['figure.figsize'] = 2*np.array([4, 3])\n",
    "strong = plt.figure()\n",
    "plt.loglog(cpus[:-1],css[0]/css[:-1],label='Clusters')\n",
    "plt.loglog(cpus[:-1],uss[0]/uss,label='Uniform')\n",
    "plt.loglog(cpus[:-1],amdahl(cpus[:-1],1.),linestyle='--',label='Ideal')\n",
    "plt.loglog(cpus[:-1],amdahl(cpus[:-1],.8),linestyle='--',label='80%')\n",
    "plt.loglog(cpus[:-1],amdahl(cpus[:-1],.4),linestyle='--',label='40%')\n",
    "plt.xticks(cpus,labels=cpus.astype(str))\n",
    "plt.xlabel('CPUs')\n",
    "plt.ylabel('Speed Up')\n",
    "plt.xlim((cpus[0],cpus[-2]))\n",
    "plt.ylim((1,10))\n",
    "plt.legend()\n",
    "plt.grid(True,axis='both',which='both')\n",
    "plt.tight_layout()\n",
    "plt.savefig('strong_speedup.png',dpi=600, transparent=True)\n",
    "plt.show()"
   ]
  },
  {
   "cell_type": "code",
   "execution_count": null,
   "metadata": {},
   "outputs": [],
   "source": [
    "plt.rcParams['figure.figsize'] = 2*np.array([4, 3])\n",
    "weak = plt.figure()\n",
    "plt.loglog(nparts,(pt_uws4[0]/nparts[0])/(pt_uws4/nparts),label='4CPUS/Uniform')\n",
    "plt.loglog(nparts,(pt_uws8[0]/nparts[0])/(pt_uws8/nparts),label='8CPUS/Uniform')\n",
    "plt.loglog(nparts,(pt_uws16[0]/nparts[0])/(pt_uws16/nparts),label='16CPUS/Uniform')\n",
    "plt.loglog(nparts,nparts/10,linestyle='--')\n",
    "plt.xlabel('Size (particles)')\n",
    "plt.ylabel('Speed up (per thread, particle)')\n",
    "plt.grid(True,axis='both',which='major')\n",
    "plt.xlim((10,1e6))\n",
    "plt.ylim((1,1e4))\n",
    "plt.legend(loc='lower right')\n",
    "plt.tight_layout()\n",
    "plt.savefig('weak_speedup.png',dpi=600, transparent=True)\n",
    "plt.show()"
   ]
  },
  {
   "cell_type": "code",
   "execution_count": null,
   "metadata": {},
   "outputs": [],
   "source": [
    "pt_uws"
   ]
  },
  {
   "cell_type": "code",
   "execution_count": null,
   "metadata": {},
   "outputs": [],
   "source": []
  }
 ],
 "metadata": {
  "kernelspec": {
   "display_name": "Python 3",
   "language": "python",
   "name": "python3"
  },
  "language_info": {
   "codemirror_mode": {
    "name": "ipython",
    "version": 3
   },
   "file_extension": ".py",
   "mimetype": "text/x-python",
   "name": "python",
   "nbconvert_exporter": "python",
   "pygments_lexer": "ipython3",
   "version": "3.6.8"
  }
 },
 "nbformat": 4,
 "nbformat_minor": 2
}
