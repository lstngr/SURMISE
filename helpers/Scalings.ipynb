{
 "cells": [
  {
   "cell_type": "code",
   "execution_count": null,
   "metadata": {},
   "outputs": [],
   "source": [
    "import numpy as np\n",
    "%matplotlib inline\n",
    "import matplotlib.pyplot as plt"
   ]
  },
  {
   "cell_type": "markdown",
   "metadata": {},
   "source": [
    "Scaling data measured with UNIX's `time`"
   ]
  },
  {
   "cell_type": "code",
   "execution_count": null,
   "metadata": {},
   "outputs": [],
   "source": [
    "# Number of cpus\n",
    "cpus = 2**np.linspace(0,6,7);\n",
    "# Clustered set of 1e6 particles (theta=0.7)\n",
    "css = np.array([83.74,63.63,56.56,52.52,49.51,50.82,57.39])\n",
    "# Uniformly distributed set of 1e6 particles (theta=0.4)\n",
    "uss = np.array([197.2,115.6,72.73,58.50,48.09,49.77])"
   ]
  },
  {
   "cell_type": "code",
   "execution_count": null,
   "metadata": {},
   "outputs": [],
   "source": [
    "# Speedups\n",
    "u_spdp = uss[0]/uss\n",
    "c_spdp = css[0]/css"
   ]
  },
  {
   "cell_type": "code",
   "execution_count": null,
   "metadata": {},
   "outputs": [],
   "source": [
    "# Problem size for weak scaling\n",
    "nparts = np.array([10,30,100,300,1000,3000,10000, 30000, 100000, 300000,  1000000])\n",
    "# Total time for weak scaling\n",
    "uws=np.array([2.366,2.082,2.149,2.295,3.175,2.542,2.528,3.357,6.703,17.382,58.501])\n",
    "# Time per CPU for weak scaling\n",
    "pt_uws = uws/8"
   ]
  },
  {
   "cell_type": "code",
   "execution_count": null,
   "metadata": {},
   "outputs": [],
   "source": [
    "plt.rcParams['figure.figsize'] = [6, 3]\n",
    "strong = plt.figure()\n",
    "plt.semilogx(cpus[:-1],css[:-1],label='Clustered')\n",
    "plt.semilogx(cpus[:-1],uss,label='Uniform')\n",
    "plt.xticks(cpus,labels=cpus.astype(str))\n",
    "plt.xlabel('CPUs')\n",
    "plt.ylabel('Time (s)')\n",
    "plt.xlim((cpus[0],cpus[-2]))\n",
    "plt.legend()\n",
    "plt.tight_layout()\n",
    "plt.savefig('strong.png')\n",
    "plt.show()"
   ]
  },
  {
   "cell_type": "code",
   "execution_count": null,
   "metadata": {},
   "outputs": [],
   "source": [
    "plt.rcParams['figure.figsize'] = [6, 3]\n",
    "strong = plt.figure()\n",
    "plt.semilogx(nparts,pt_uws,label='Uniform')\n",
    "plt.xlabel('Particles')\n",
    "plt.ylabel('Time (per CPU)')\n",
    "plt.tight_layout()\n",
    "plt.savefig('weak.png')\n",
    "plt.show()"
   ]
  },
  {
   "cell_type": "code",
   "execution_count": null,
   "metadata": {},
   "outputs": [],
   "source": [
    "pt_uws"
   ]
  },
  {
   "cell_type": "code",
   "execution_count": null,
   "metadata": {},
   "outputs": [],
   "source": []
  }
 ],
 "metadata": {
  "kernelspec": {
   "display_name": "Python 3",
   "language": "python",
   "name": "python3"
  },
  "language_info": {
   "codemirror_mode": {
    "name": "ipython",
    "version": 3
   },
   "file_extension": ".py",
   "mimetype": "text/x-python",
   "name": "python",
   "nbconvert_exporter": "python",
   "pygments_lexer": "ipython3",
   "version": "3.6.8"
  }
 },
 "nbformat": 4,
 "nbformat_minor": 2
}
