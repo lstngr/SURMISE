{
 "cells": [
  {
   "cell_type": "markdown",
   "metadata": {},
   "source": [
    "## Tree Visualization Script\n",
    "\n",
    "Imports a CSV formatted file representing the tree in memory, rearranges its contents in the DOT language, ad prints a nice graph."
   ]
  },
  {
   "cell_type": "code",
   "execution_count": null,
   "metadata": {},
   "outputs": [],
   "source": [
    "from graphviz import Digraph\n",
    "import csv\n",
    "import numpy as np\n",
    "from numpy import genfromtxt"
   ]
  },
  {
   "cell_type": "code",
   "execution_count": null,
   "metadata": {},
   "outputs": [],
   "source": [
    "# Import CSV formatted data into a string array\n",
    "filepath = \"../out/largeuniform.tree.0\"\n",
    "data = []\n",
    "savegraph = True;\n",
    "printgraph = False;\n",
    "with open( filepath , 'r') as csvfile:\n",
    "    tree = csv.reader(csvfile, delimiter=',')\n",
    "    for row in tree:\n",
    "        data.append(row)"
   ]
  },
  {
   "cell_type": "code",
   "execution_count": null,
   "metadata": {},
   "outputs": [],
   "source": [
    "graph = Digraph('Tree')\n",
    "somezero=0\n",
    "for row in data:\n",
    "    graph.node(row[0])\n",
    "for row in data:\n",
    "    for edge in row[1:]:\n",
    "        if edge!='0':\n",
    "            graph.edge(row[0],edge)\n",
    "        else:\n",
    "            graph.node(str(somezero),'0x0')\n",
    "            graph.edge(row[0],str(somezero))\n",
    "            somezero+=1"
   ]
  },
  {
   "cell_type": "code",
   "execution_count": null,
   "metadata": {},
   "outputs": [],
   "source": [
    "if printgraph:\n",
    "    graph"
   ]
  },
  {
   "cell_type": "code",
   "execution_count": null,
   "metadata": {},
   "outputs": [],
   "source": [
    "# Optional saving routine\n",
    "if( savegraph ):\n",
    "    graph.render(filename=filepath+\".graph\", format='png' )\n",
    "    graph.save( filename=filepath+\".graph.gv\" )"
   ]
  }
 ],
 "metadata": {
  "kernelspec": {
   "display_name": "Python 3",
   "language": "python",
   "name": "python3"
  },
  "language_info": {
   "codemirror_mode": {
    "name": "ipython",
    "version": 3
   },
   "file_extension": ".py",
   "mimetype": "text/x-python",
   "name": "python",
   "nbconvert_exporter": "python",
   "pygments_lexer": "ipython3",
   "version": "3.6.8"
  }
 },
 "nbformat": 4,
 "nbformat_minor": 2
}
